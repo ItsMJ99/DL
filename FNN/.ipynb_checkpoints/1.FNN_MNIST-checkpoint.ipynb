{
 "cells": [
  {
   "cell_type": "markdown",
   "id": "bf7b8881-aaac-47a3-9767-9974806e3aa9",
   "metadata": {},
   "source": [
    "### 1.\tImplementing Feedforward neural networks with Keras and TensorFlow for classification of hand-written MNIST dataset using below steps:\n",
    "a.\tImport the necessary packages\n",
    "b.\tLoad the training and testing data\n",
    "c.\tDefine the network architecture using Keras\n",
    "d.\tTrain the model using SGD with 11 epochs\n",
    "e.\tEvaluate the network\n",
    "f.\tPlot the training loss and accuracy\n",
    "\n",
    "### 12.\tImplementing Feedforward neural networks with Keras and TensorFlow\n",
    "a.\tImport the necessary packages\n",
    "b.\tLoad the training and testing data (MNIST/CIFAR10)\n",
    "c.\tDefine the network architecture using Keras\n",
    "d.\tTrain the model using SGD\n",
    "e.\tEvaluate the network\n",
    "f.\tPlot the training loss and accuracy\n"
   ]
  },
  {
   "cell_type": "code",
   "execution_count": 1,
   "id": "d1772f27-81b6-4ae3-bad1-b53736d8943a",
   "metadata": {},
   "outputs": [],
   "source": [
    "import numpy as np \n",
    "#library used for numerical operations with arrays and matrices.in code reshaping images and normalizing pixel values.\n",
    "\n",
    "import pandas as pd\n",
    "#library used to load and manage datasets \n",
    "\n",
    "import matplotlib.pyplot as plt\n",
    "#visualize images from the MNIST dataset\n",
    "\n",
    "import tensorflow as tf\n",
    "#open-source library for building deep learning networks.used here to define and train a neural network model that will classify MNIST digits.\n",
    "\n",
    "from tensorflow.keras.models import Sequential\n",
    "#allows you to stack layers sequentially layers like Dense, Flatten, and Dropouty, which is useful for simple, straightforward neural network architectures.\n",
    "#output of one layer is input to next\n",
    "\n",
    "from tensorflow.keras.layers import Dense, Dropout\n",
    "#a fully connected layer where each neuron is connected to every neuron in the previous layer\n",
    "#regularization technique that randomly sets a fraction of input units to zero during training to prevent overfitting.\n",
    "\n",
    "from tensorflow.keras.utils import to_categorical\n",
    "#converts integer labels into one-hot encoded vectors\n",
    "#in the MNIST dataset, the digit labels (0-9) are converted into a binary format where each class is represented by a unique binary vector."
   ]
  },
  {
   "cell_type": "code",
   "execution_count": 2,
   "id": "9d584318-c65d-42cf-b258-f02d66e6c895",
   "metadata": {},
   "outputs": [],
   "source": [
    "train = pd.read_csv('./datasets/mnist_train.csv')\n",
    "test = pd.read_csv('./datasets/mnist_test.csv')"
   ]
  },
  {
   "cell_type": "code",
   "execution_count": 3,
   "id": "a0e6395e-2548-4464-b3a3-e960bb9d68e9",
   "metadata": {},
   "outputs": [],
   "source": [
    "x_train = train.drop('label',axis=1)\n",
    "# removes label column from train DataFrame, which contains the actual digit label (0, 1, 2, etc.) for each image.\n",
    "\n",
    "x_test = test.drop('label',axis=1)"
   ]
  },
  {
   "cell_type": "code",
   "execution_count": 4,
   "id": "6e0f0197-10c1-40b7-9cdd-fbc363521bcb",
   "metadata": {},
   "outputs": [],
   "source": [
    "# normalization\n",
    "#Each pixel in the MNIST dataset has intensity between 0 and 255. By dividing by 255.0, we scale these values to fall within the range [0, 1].\n",
    "x_train = x_train / 255.0\n",
    "x_test = x_test / 255.0"
   ]
  },
  {
   "cell_type": "code",
   "execution_count": 5,
   "id": "09ba0736-3f66-4700-a45d-4c6204763b01",
   "metadata": {},
   "outputs": [],
   "source": [
    "y_train = train['label']\n",
    "y_test = test['label']"
   ]
  },
  {
   "cell_type": "code",
   "execution_count": 6,
   "id": "2e4ed46a-deab-46fa-90c8-7ebca6c1ce43",
   "metadata": {},
   "outputs": [
    {
     "name": "stdout",
     "output_type": "stream",
     "text": [
      "[0 1 2 3 4 5 6 7 8 9]\n",
      "[0 1 2 3 4 5 6 7 8 9]\n"
     ]
    }
   ],
   "source": [
    "print(np.unique(y_train))\n",
    "print(np.unique(y_test))"
   ]
  },
  {
   "cell_type": "code",
   "execution_count": 7,
   "id": "38c4f576-bcd8-478a-843f-240ec1c065e5",
   "metadata": {},
   "outputs": [
    {
     "data": {
      "text/plain": [
       "0    5\n",
       "1    0\n",
       "2    4\n",
       "3    1\n",
       "4    9\n",
       "5    2\n",
       "6    1\n",
       "7    3\n",
       "8    1\n",
       "9    4\n",
       "Name: label, dtype: int64"
      ]
     },
     "execution_count": 7,
     "metadata": {},
     "output_type": "execute_result"
    }
   ],
   "source": [
    "y_train[:10]"
   ]
  },
  {
   "cell_type": "code",
   "execution_count": 8,
   "id": "746f9dac-500d-442c-ad00-bee8da054a66",
   "metadata": {},
   "outputs": [],
   "source": [
    "#this is one hot encoding\n",
    "#Compatibility with Categorical Cross-Entropy Loss\n",
    "\n",
    "y_train = to_categorical(y_train) \n",
    "y_test = to_categorical(y_test)"
   ]
  },
  {
   "cell_type": "code",
   "execution_count": 9,
   "id": "ad55f54d-f3fb-4316-acc1-e9a9e67f6a89",
   "metadata": {},
   "outputs": [
    {
     "name": "stdout",
     "output_type": "stream",
     "text": [
      "X Train Shape : (60000, 784)\n",
      "X Test Shape : (10000, 784)\n",
      "Y Train Shape : (60000, 10)\n",
      "Y Test Shape : (10000, 10)\n"
     ]
    }
   ],
   "source": [
    "print('X Train Shape : '+str(x_train.shape))\n",
    "print('X Test Shape : '+str(x_test.shape))\n",
    "print('Y Train Shape : '+str(y_train.shape))\n",
    "print('Y Test Shape : '+str(y_test.shape))"
   ]
  },
  {
   "cell_type": "code",
   "execution_count": 10,
   "id": "1b3041b9-2888-4f6e-a027-5214b6406040",
   "metadata": {},
   "outputs": [],
   "source": [
    "model = Sequential([\n",
    "    Dense(128,activation='relu'),\n",
    "    #has 128 neurons, \n",
    "    #Rectified Linear Unit (ReLU) activation function,ReLU introduces non-linearity into the model, allowing it to learn complex patterns in the data.\n",
    "    #Without non-linearity, a neural network would behave like a linear model, limiting its ability to solve complex problems.\n",
    "    Dropout(0.2),\n",
    "    #randomly drops 20% of the neurons during training.It helps prevent overfitting by ensuring that the model doesn't rely too heavily on any one neuron\n",
    "    Dense(64,activation='relu'),\n",
    "    Dropout(0.2),\n",
    "    Dense(32,activation='relu'),\n",
    "    Dropout(0.2),\n",
    "    Dense(10,activation='softmax')\n",
    "    #The final layer has 10 units, corresponding to the 10 possible classes (digits 0 through 9) in the MNIST dataset.\n",
    "    #softmax outputs a probability distribution, where each unit represents the probability of a particular class. \n",
    "    #The sum of all output probabilities equals 1, and the class with the highest probability is chosen as the predicted class.\n",
    "])\n",
    "\n",
    "#Overfitting occurs when a model learns not only the underlying patterns in the training data but also the noise and random fluctuations.\n",
    "#Underfitting occurs when a model is too simple to capture the underlying patterns in the data. \n",
    "#It doesn’t learn the important relationships in the training data and, as a result, performs poorly on both the training data and the test data."
   ]
  },
  {
   "cell_type": "code",
   "execution_count": 11,
   "id": "d1a466b4-b47a-40ea-908c-a74f7777469c",
   "metadata": {},
   "outputs": [],
   "source": [
    "model.compile(optimizer='sgd',loss='categorical_crossentropy',metrics=['accuracy'])\n",
    "\n",
    "#Stochastic Gradient Descent. Optimizer controls how the model is updated during training. \n",
    "#It determines how the weights of the model should be adjusted based on the gradients of the loss function.\n",
    "#The loss function measures how well the model’s predictions match the actual results. The goal is to minimize the loss during training.\n",
    "#tells Keras to monitor the accuracy of the model during training and evaluation."
   ]
  },
  {
   "cell_type": "code",
   "execution_count": 12,
   "id": "cd6c0fc5-cb0b-4bf0-9d7c-e2688a0e816b",
   "metadata": {},
   "outputs": [
    {
     "name": "stdout",
     "output_type": "stream",
     "text": [
      "Epoch 1/11\n",
      "\u001b[1m1875/1875\u001b[0m \u001b[32m━━━━━━━━━━━━━━━━━━━━\u001b[0m\u001b[37m\u001b[0m \u001b[1m3s\u001b[0m 1ms/step - accuracy: 0.4697 - loss: 1.5304 - val_accuracy: 0.8947 - val_loss: 0.3778\n",
      "Epoch 2/11\n",
      "\u001b[1m1875/1875\u001b[0m \u001b[32m━━━━━━━━━━━━━━━━━━━━\u001b[0m\u001b[37m\u001b[0m \u001b[1m2s\u001b[0m 1ms/step - accuracy: 0.8393 - loss: 0.5397 - val_accuracy: 0.9248 - val_loss: 0.2629\n",
      "Epoch 3/11\n",
      "\u001b[1m1875/1875\u001b[0m \u001b[32m━━━━━━━━━━━━━━━━━━━━\u001b[0m\u001b[37m\u001b[0m \u001b[1m2s\u001b[0m 1ms/step - accuracy: 0.8806 - loss: 0.4057 - val_accuracy: 0.9388 - val_loss: 0.2070\n",
      "Epoch 4/11\n",
      "\u001b[1m1875/1875\u001b[0m \u001b[32m━━━━━━━━━━━━━━━━━━━━\u001b[0m\u001b[37m\u001b[0m \u001b[1m2s\u001b[0m 1ms/step - accuracy: 0.9044 - loss: 0.3420 - val_accuracy: 0.9471 - val_loss: 0.1753\n",
      "Epoch 5/11\n",
      "\u001b[1m1875/1875\u001b[0m \u001b[32m━━━━━━━━━━━━━━━━━━━━\u001b[0m\u001b[37m\u001b[0m \u001b[1m2s\u001b[0m 995us/step - accuracy: 0.9179 - loss: 0.2889 - val_accuracy: 0.9525 - val_loss: 0.1548\n",
      "Epoch 6/11\n",
      "\u001b[1m1875/1875\u001b[0m \u001b[32m━━━━━━━━━━━━━━━━━━━━\u001b[0m\u001b[37m\u001b[0m \u001b[1m2s\u001b[0m 1ms/step - accuracy: 0.9262 - loss: 0.2574 - val_accuracy: 0.9558 - val_loss: 0.1444\n",
      "Epoch 7/11\n",
      "\u001b[1m1875/1875\u001b[0m \u001b[32m━━━━━━━━━━━━━━━━━━━━\u001b[0m\u001b[37m\u001b[0m \u001b[1m2s\u001b[0m 1ms/step - accuracy: 0.9340 - loss: 0.2354 - val_accuracy: 0.9593 - val_loss: 0.1341\n",
      "Epoch 8/11\n",
      "\u001b[1m1875/1875\u001b[0m \u001b[32m━━━━━━━━━━━━━━━━━━━━\u001b[0m\u001b[37m\u001b[0m \u001b[1m2s\u001b[0m 950us/step - accuracy: 0.9400 - loss: 0.2140 - val_accuracy: 0.9621 - val_loss: 0.1252\n",
      "Epoch 9/11\n",
      "\u001b[1m1875/1875\u001b[0m \u001b[32m━━━━━━━━━━━━━━━━━━━━\u001b[0m\u001b[37m\u001b[0m \u001b[1m2s\u001b[0m 961us/step - accuracy: 0.9448 - loss: 0.1934 - val_accuracy: 0.9642 - val_loss: 0.1197\n",
      "Epoch 10/11\n",
      "\u001b[1m1875/1875\u001b[0m \u001b[32m━━━━━━━━━━━━━━━━━━━━\u001b[0m\u001b[37m\u001b[0m \u001b[1m2s\u001b[0m 1ms/step - accuracy: 0.9467 - loss: 0.1888 - val_accuracy: 0.9653 - val_loss: 0.1164\n",
      "Epoch 11/11\n",
      "\u001b[1m1875/1875\u001b[0m \u001b[32m━━━━━━━━━━━━━━━━━━━━\u001b[0m\u001b[37m\u001b[0m \u001b[1m2s\u001b[0m 1ms/step - accuracy: 0.9496 - loss: 0.1745 - val_accuracy: 0.9667 - val_loss: 0.1108\n"
     ]
    }
   ],
   "source": [
    "history = model.fit(x_train,y_train,epochs=11,validation_data=(x_test,y_test))\n",
    "\n",
    "#epochs=11: The number of times the entire training dataset will be passed through the model. \n",
    "#Each epoch involves updating the model's weights based on the gradients computed from the loss function.\n",
    "#This data is used to evaluate the model's performance after each epoch"
   ]
  },
  {
   "cell_type": "code",
   "execution_count": 13,
   "id": "132a690d-51c1-4258-b6d2-98e41764c2fc",
   "metadata": {},
   "outputs": [
    {
     "data": {
      "image/png": "[encoded data removed]",
      "text/plain": [
       "<Figure size 640x480 with 1 Axes>"
      ]
     },
     "metadata": {},
     "output_type": "display_data"
    }
   ],
   "source": [
    "plt.plot(history.history['loss'],label='Training Loss')\n",
    "plt.plot(history.history['val_loss'],label='Validation Loss')\n",
    "plt.xlabel('Epochs')\n",
    "plt.ylabel('Loss')\n",
    "plt.legend()\n",
    "plt.show()\n",
    "\n",
    "#Loss is a measure of how well or poorly the model's predictions match the actual labels \n",
    "#This shows how well the model is fitting to the training data. It is expected to decrease as the model learns.\n",
    "#This shows how well the model performs on the validation data. If the validation loss increases while the training loss decreases, this may indicate overfitting."
   ]
  },
  {
   "cell_type": "code",
   "execution_count": 14,
   "id": "c7d5741c-0762-4016-875c-5adcdc78c5e1",
   "metadata": {},
   "outputs": [
    {
     "data": {
      "image/png": "[encoded data removed]",
      "text/plain": [
       "<Figure size 640x480 with 1 Axes>"
      ]
     },
     "metadata": {},
     "output_type": "display_data"
    }
   ],
   "source": [
    "plt.plot(history.history['accuracy'],label='Training Accuracy')\n",
    "plt.plot(history.history['val_accuracy'],label='Validation Accuracy')\n",
    "plt.xlabel('Epochs')\n",
    "plt.ylabel('Accuracy')\n",
    "plt.legend()\n",
    "plt.show()\n",
    "\n",
    "#Accuracy is the percentage of correct predictions made by the model.\n",
    "#This represents the accuracy of the model on the training data.\n",
    "#This represents the accuracy of the model on the validation data,\n",
    "#If validation accuracy stops improving or decreases while training accuracy continues to improve, it could be a sign of overfitting."
   ]
  },
  {
   "cell_type": "code",
   "execution_count": 15,
   "id": "024cedca-0532-49b2-bfe9-fbcaa940abed",
   "metadata": {},
   "outputs": [
    {
     "name": "stdout",
     "output_type": "stream",
     "text": [
      "\u001b[1m313/313\u001b[0m \u001b[32m━━━━━━━━━━━━━━━━━━━━\u001b[0m\u001b[37m\u001b[0m \u001b[1m0s\u001b[0m 723us/step - accuracy: 0.9613 - loss: 0.1309\n"
     ]
    }
   ],
   "source": [
    "loss, accuracy = model.evaluate(x_test,y_test)"
   ]
  },
  {
   "cell_type": "code",
   "execution_count": 16,
   "id": "f3382a77-770e-4796-be72-7b401d1caa0a",
   "metadata": {},
   "outputs": [
    {
     "name": "stdout",
     "output_type": "stream",
     "text": [
      "\u001b[1m313/313\u001b[0m \u001b[32m━━━━━━━━━━━━━━━━━━━━\u001b[0m\u001b[37m\u001b[0m \u001b[1m0s\u001b[0m 912us/step\n"
     ]
    }
   ],
   "source": [
    "y_pred = model.predict(x_test)\n",
    "#is used to make predictions on the test data"
   ]
  },
  {
   "cell_type": "code",
   "execution_count": 17,
   "id": "f6dab610-5276-43fd-aabd-da0193b3767e",
   "metadata": {},
   "outputs": [
    {
     "name": "stdout",
     "output_type": "stream",
     "text": [
      "Actual Label : 9\n",
      "Predicted Label : 9\n"
     ]
    },
    {
     "data": {
      "image/png": "[encoded data removed]",
      "text/plain": [
       "<Figure size 640x480 with 1 Axes>"
      ]
     },
     "metadata": {},
     "output_type": "display_data"
    }
   ],
   "source": [
    "n=99\n",
    "plt.imshow(x_test.iloc[n].values.reshape(28, 28))\n",
    "print('Actual Label : '+str(np.argmax(y_test[n])))\n",
    "print('Predicted Label : '+str(np.argmax(y_pred[n])))\n",
    "plt.show()"
   ]
  },
  {
   "cell_type": "code",
   "execution_count": null,
   "id": "7a748bf1-a555-40ac-b49c-f7d4266615d2",
   "metadata": {},
   "outputs": [],
   "source": []
  }
 ],
 "metadata": {
  "kernelspec": {
   "display_name": "Python 3 (ipykernel)",
   "language": "python",
   "name": "python3"
  },
  "language_info": {
   "codemirror_mode": {
    "name": "ipython",
    "version": 3
   },
   "file_extension": ".py",
   "mimetype": "text/x-python",
   "name": "python",
   "nbconvert_exporter": "python",
   "pygments_lexer": "ipython3",
   "version": "3.12.1"
  }
 },
 "nbformat": 4,
 "nbformat_minor": 5
}
